{
 "cells": [
  {
   "cell_type": "markdown",
   "metadata": {},
   "source": [
    "Check this article first if you speak Vietnamese, it outlines the steps implemented.\n",
    "\n",
    "https://viblo.asia/p/b5-hopskipjumpattack-a-query-efficient-decision-based-attack-L4x5xLGm5BM"
   ]
  },
  {
   "cell_type": "code",
   "execution_count": 2,
   "metadata": {},
   "outputs": [],
   "source": [
    "# imports\n",
    "import numpy as np\n",
    "from typing import Callable, Optional"
   ]
  },
  {
   "cell_type": "markdown",
   "metadata": {},
   "source": [
    "Binary search to find the boundary."
   ]
  },
  {
   "cell_type": "code",
   "execution_count": 3,
   "metadata": {},
   "outputs": [],
   "source": [
    "def binsearch_boundary(src_pt: np.ndarray,\n",
    "                      dest_pt: np.ndarray,\n",
    "                      threshold: float,\n",
    "                      fn: Callable[[np.ndarray], bool]\n",
    "                     ) -> np.array:\n",
    "    '''\n",
    "    Find a point between two points that will lies on the boundary.\n",
    "    :param src_pt:    point at which phi=0\n",
    "    :param dest_pt:   point at which phi=1\n",
    "    :param threshold: gap between source point and destination point\n",
    "    :param fn:        function that takes in a point and returns T/F if phi=1/0.\n",
    "    '''\n",
    "    while np.linalg.norm(dest_pt - src_pt) >= threshold:\n",
    "        midpoint = (src_pt + dest_pt) / 2\n",
    "        if fn(midpoint):\n",
    "            dest_pt = midpoint\n",
    "        else:\n",
    "            src_pt = midpoint\n",
    "    return dest_pt"
   ]
  },
  {
   "cell_type": "markdown",
   "metadata": {},
   "source": [
    "Estimate gradient when on the boundary."
   ]
  },
  {
   "cell_type": "code",
   "execution_count": 96,
   "metadata": {},
   "outputs": [],
   "source": [
    "def estimate_gradient(orig_pt: np.ndarray,\n",
    "                      step_size: np.ndarray,\n",
    "                      sample_count: int,\n",
    "                      fn: Callable[[np.ndarray], bool]\n",
    "                     ) -> np.ndarray:\n",
    "    '''\n",
    "    Estimate the gradient via Monte Carlo sampling.\n",
    "    :param orig_pt:      point to estimate gradient at\n",
    "    :param step_size:    length of each step in the proposed direction\n",
    "    :param sample_count: number of Monte Carlo samples\n",
    "    :param fn:           function that takes in a point and returns T/F if phi=1/0.\n",
    "    '''\n",
    "    # sample directions\n",
    "    directions = np.random.randn(orig_pt.shape[0], sample_count)\n",
    "    directions /= np.linalg.norm(directions, axis=0)\n",
    "    # get phi values\n",
    "    values = np.empty((orig_pt.shape[0], 1), dtype=np.float)\n",
    "    for i in range(sample_count):\n",
    "        values[i, 0] = fn(directions[:, i]) * 2 - 1\n",
    "    # subtract from the mean\n",
    "    values -= np.mean(values)\n",
    "    # and average them\n",
    "    avg = np.sum(directions * values, axis=1) / (sample_count - 1)\n",
    "    # project them to unit L2\n",
    "    return avg / np.linalg.norm(avg)"
   ]
  },
  {
   "cell_type": "markdown",
   "metadata": {},
   "source": [
    "Gradient descent with estimated gradient."
   ]
  },
  {
   "cell_type": "code",
   "execution_count": 97,
   "metadata": {},
   "outputs": [],
   "source": [
    "def gradient_descent(orig_pt: np.ndarray,\n",
    "                     grad: np.ndarray,\n",
    "                     step_size: float,\n",
    "                     fn: Callable[[np.ndarray], bool]\n",
    "                    ) -> np.ndarray:\n",
    "    '''\n",
    "    Do gradient descent on a point already on the boundary.\n",
    "    :param orig_pt:    point to do gradient descent on\n",
    "    :param grad:       the estimated gradient\n",
    "    :param step_size:  initial step size to try\n",
    "    :param fn:         function that takes in a point and returns T/F if phi=1/0.\n",
    "    '''\n",
    "    # find the step size to stay in phi=1\n",
    "    while True:\n",
    "        new_vector = orig_pt + step_size * grad\n",
    "        if fn(new_vector):\n",
    "            break\n",
    "        step_size /= 2\n",
    "    return new_vector"
   ]
  },
  {
   "cell_type": "markdown",
   "metadata": {},
   "source": [
    "And the whole HopSkipJumpAttack in all its glory."
   ]
  },
  {
   "cell_type": "code",
   "execution_count": 102,
   "metadata": {},
   "outputs": [],
   "source": [
    "def hopskipjumpattack(orig_pt: np.ndarray,\n",
    "                      fn: Callable[[np.ndarray], bool],\n",
    "                      max_iter: Optional[int] = 100,\n",
    "                      init_grad_queries: Optional[int] = 100,\n",
    "                      binsearch_threshold: Optional[float] = 1e-10,\n",
    "                      dest_pt: Optional[np.ndarray] = None,\n",
    "                      start_iter: Optional[int] = 0\n",
    "                     ) -> np.ndarray:\n",
    "    '''\n",
    "    Implementation of the HopSkipJumpAttack.\n",
    "    :param orig_pt:             point at which phi=0\n",
    "    :param fn:                  function that takes in a point and returns T/F if phi=1/0\n",
    "    :param max_iter:            (Optional) maximum number of optimization iteration.\n",
    "                                Default is 100.\n",
    "    :param init_grad_queries:    (Optional) initial query count to estimate gradient\n",
    "                                Default is 100.\n",
    "    :param binsearch_threshold: (Optional) the threshold to stop binary searching the boundary.\n",
    "                                Default is 1e-6.\n",
    "    :param dest_pt:             (Optional) point which phi=1.\n",
    "                                If dest_pt is None, will be initialized to be a random vector.\n",
    "    :param start_iter:          (Optional) last iteration count.\n",
    "                                For cases when one restarts this iterative algo. Default is 0.\n",
    "    '''\n",
    "    d = orig_pt.shape[0]\n",
    "    # initialize a vector with phi=1\n",
    "    if dest_pt is None:\n",
    "        while True:\n",
    "            dest_pt = np.random.random_sample(d)\n",
    "            if fn(dest_pt):\n",
    "                break\n",
    "    for it in range(start_iter + 1, max_iter + 1):\n",
    "        print(f'Iter {it:03d}: ', end='')\n",
    "        # find the boundary\n",
    "        boundary = binsearch_boundary(orig_pt, dest_pt, binsearch_threshold, fn)\n",
    "        # if the error is too small, return as is\n",
    "        distance = np.linalg.norm(boundary - orig_pt)\n",
    "        if distance < binsearch_threshold:\n",
    "            print(distance)\n",
    "            print('Too small step size, terminated.')\n",
    "            # this works because we return the phi=1 endpoint in binsearch.\n",
    "            return boundary\n",
    "        # estimate the gradient\n",
    "        step_size = np.linalg.norm(dest_pt - orig_pt) / d\n",
    "        sample_count = int(init_grad_queries * it ** 0.5)\n",
    "        grad = estimate_gradient(boundary, step_size, sample_count, fn)\n",
    "        # and gradient descend\n",
    "        step_size = np.linalg.norm(boundary - orig_pt) / it ** 0.5\n",
    "        dest_pt = gradient_descent(boundary, grad, step_size, fn)\n",
    "        distance = np.linalg.norm(dest_pt - orig_pt)\n",
    "        print(distance)\n",
    "    return dest_pt"
   ]
  },
  {
   "cell_type": "markdown",
   "metadata": {},
   "source": [
    "Now the rest is just calling it. Again, `fn` refers to a function that returns True if the datapoint is successfully misclassified (the specifics depends on whether it's targeted or untargeted), and False otherwise.\n",
    "\n",
    "*Note: this repo is for learning purposes, there is already implementations by the author (@Jianbo-Lab) and on various adversarial toolboxes (CleverHans/Foolbox).*"
   ]
  }
 ],
 "metadata": {
  "kernelspec": {
   "display_name": "Python 3",
   "language": "python",
   "name": "python3"
  },
  "language_info": {
   "codemirror_mode": {
    "name": "ipython",
    "version": 3
   },
   "file_extension": ".py",
   "mimetype": "text/x-python",
   "name": "python",
   "nbconvert_exporter": "python",
   "pygments_lexer": "ipython3",
   "version": "3.7.6"
  }
 },
 "nbformat": 4,
 "nbformat_minor": 4
}
